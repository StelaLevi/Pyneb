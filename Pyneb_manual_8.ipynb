{
 "cells": [
  {
   "cell_type": "code",
   "execution_count": 1,
   "id": "a59c8491-45be-4b07-8c45-d1ab88eca8a1",
   "metadata": {},
   "outputs": [],
   "source": [
    "import pyneb as pn"
   ]
  },
  {
   "cell_type": "code",
   "execution_count": 2,
   "id": "d85aea68-2014-46f8-bbb5-32d6f492ef33",
   "metadata": {},
   "outputs": [
    {
     "name": "stdout",
     "output_type": "stream",
     "text": [
      "{'Ne': ['direct_Ne.23', 'direct_Ne.235', 'direct_Ne.2345', 'direct_Ne.345', 'direct_Ne.2356', 'TPP77_15', 'PHCD07_12', 'PHCD07_13', 'KB94_A27', 'KB94_A28.6', 'KB94_A28.8', 'KB94_A28.10', 'KB94_A28.10b', 'KH01_4d', 'PC69_40', 'S78_265b', 'DIMS14_17a', 'DIMS14_17b', 'DIMS14_17c', 'DIMS14_20', 'Ial06_19a', 'Ial06_19b', 'Ial06_19c']}\n"
     ]
    }
   ],
   "source": [
    "atom_abun = {'O2': 0.001, 'O3': 0.002, 'Ne3': 1.2e-5}\n",
    "icf = pn.ICF()\n",
    "print(icf.getAvailableICFs('Ne')) "
   ]
  },
  {
   "cell_type": "code",
   "execution_count": 4,
   "id": "9cf51584-35a8-4dc3-b8f0-0e27daf4884b",
   "metadata": {},
   "outputs": [
    {
     "name": "stdout",
     "output_type": "stream",
     "text": [
      "{'TPP77_15': 1.8e-05}\n"
     ]
    }
   ],
   "source": [
    "elem_abun = icf.getElemAbundance(atom_abun, icf_list=['TPP77_15']) # Computes the Ne abundance with the TPP06 recipe\n",
    "print(elem_abun)"
   ]
  },
  {
   "cell_type": "code",
   "execution_count": 5,
   "id": "5446eedf-76c5-45d4-8bd4-dba73703abfa",
   "metadata": {},
   "outputs": [
    {
     "name": "stdout",
     "output_type": "stream",
     "text": [
      "warng ICF.getElemAbundance: Unable to eval abun[\"S2\"] + abun[\"S3\"] + abun[\"S4\"] + abun[\"S5\"]\n",
      "warng ICF.getElemAbundance: Unable to eval abun[\"Fe2\"] + abun[\"Fe3\"]\n",
      "warng ICF.getElemAbundance: Unable to eval abun[\"S2\"] + abun[\"S3\"] + abun[\"S4\"] + abun[\"S5\"]\n",
      "warng ICF.getElemAbundance: Unable to eval abun[\"Fe2\"] + abun[\"Fe3\"]\n",
      "{'direct_He.23': nan, 'direct_N.23': nan, 'direct_N.234': nan, 'direct_N.2345': nan, 'direct_O.23': nan, 'direct_O.234': nan, 'direct_O.2345': nan, 'direct_S.23': nan, 'direct_S.234': nan, 'direct_S.2345': nan, 'direct_Ne.23': nan, 'direct_Ne.235': nan, 'direct_Ne.2345': nan, 'direct_Ne.345': nan, 'direct_Ne.2356': nan, 'direct_Mg.45': nan, 'direct_Ar.23': nan, 'direct_Ar.234': nan, 'direct_Ar.345': nan, 'direct_Cl.23': nan, 'direct_Cl.34': nan, 'direct_Cl.234': nan, 'TPP77_13': nan, 'TPP77_14': nan, 'TPP77_15': nan, 'PHCD07_12': nan, 'PHCD07_13': nan, 'PHCD07_16': nan, 'PHCD07_17': nan, 'ITL94_19': nan, 'ITL94_20': nan, 'PTPR92_21': nan, 'KB94_A0': nan, 'KB94_A6': nan, 'KB94_A8': nan, 'KB94_A10': nan, 'KB94_A10b': nan, 'KB94_A12': nan, 'KB94_A13.10': nan, 'KB94_A13.10b': nan, 'KB94_A16': nan, 'KB94_A19': nan, 'KB94_A21': nan, 'KB94_A26': nan, 'KB94_A27': nan, 'KB94_A28.6': nan, 'KB94_A28.8': nan, 'KB94_A28.10': nan, 'KB94_A28.10b': nan, 'KB94_A30.0': nan, 'KB94_A32': nan, 'KB94_A36.6': nan, 'KB94_A36.8': nan, 'KB94_A36.10': nan, 'KB94_A36.10b': nan, 'KB94_A38.6': nan, 'KB94_A38.8': nan, 'KB94_A38.10': nan, 'KH01_4a': nan, 'KH01_4b': nan, 'KH01_4c': nan, 'KH01_4d': nan, 'KH01_4e': np.float64(nan), 'KH01_4f': nan, 'KH01_4g': nan, 'KH01_4txt': nan, 'Ial06_16': nan, 'Ial06_17': nan, 'PC69_40': nan, 'S78_265b': nan, 'RR05_2': nan, 'RR05_3': nan, 'RR05_4': nan, 'GKA07_1.p269': nan, 'mGKA07-PTPR92_p269': nan, 'DIMS14_10': nan, 'DIMS14_12': nan, 'DIMS14_14': np.float64(nan), 'DIMS14_14b': nan, 'DIMS14_17a': nan, 'DIMS14_17b': nan, 'DIMS14_17c': nan, 'DIMS14_20': nan, 'DIMS14_23': nan, 'DIMS14_26': nan, 'DIMS14_29': nan, 'DIMS14_29b': nan, 'DIMS14_32': nan, 'DIMS14_35': nan, 'DIMS14_36': nan, 'DIMS14_39': nan, 'Ial06_18a': nan, 'Ial06_18b': nan, 'Ial06_18c': nan, 'Ial06_19a': nan, 'Ial06_19b': nan, 'Ial06_19c': nan, 'Ial06_21a': nan, 'Ial06_21b': nan, 'Ial06_21c': nan, 'Ial06_22a': nan, 'Ial06_22b': nan, 'Ial06_22c': nan, 'Ial06_24a': nan, 'Ial06_24b': nan, 'Ial06_24c': nan, 'Ial06_20a': nan, 'Ial06_20b': nan, 'Ial06_20c': nan, 'Ial06_23a': nan, 'Ial06_23b': nan, 'Ial06_23c': nan, 'KB94_A1.6': nan, 'KB94_A1.8': nan, 'KB94_A1.10': nan, 'KB94_A1.10b': nan, 'KB94_A30.10': nan, 'KB94_A30.10b': nan}\n"
     ]
    }
   ],
   "source": [
    "elem_abun = icf.getElemAbundance(elem_abun)  # performs all the possible element abundance computations given the input ionic abundance set and available icf  \n",
    "print(elem_abun)\n"
   ]
  },
  {
   "cell_type": "code",
   "execution_count": 6,
   "id": "fbf3963a-c93e-4a0c-9c75-c38fb55ea173",
   "metadata": {},
   "outputs": [
    {
     "name": "stdout",
     "output_type": "stream",
     "text": [
      "{'Ar': ['direct_Ar.23', 'direct_Ar.234', 'direct_Ar.345', 'PHCD07_16', 'PHCD07_17', 'ITL94_19', 'ITL94_20', 'KB94_A30.0', 'KB94_A30.10', 'KB94_A30.10b', 'KB94_A32', 'KH01_4g', 'KH01_4txt', 'DIMS14_35', 'DIMS14_36', 'Ial06_22a', 'Ial06_22b', 'Ial06_22c', 'Ial06_23a', 'Ial06_23b', 'Ial06_23c'], 'C': ['KB94_A12', 'KB94_A13.10', 'KB94_A13.10b', 'KB94_A16', 'KB94_A19', 'KB94_A21', 'KB94_A26', 'DIMS14_39'], 'Cl': ['direct_Cl.23', 'direct_Cl.34', 'direct_Cl.234', 'KH01_4f', 'GKA07_1.p269', 'mGKA07-PTPR92_p269', 'DIMS14_29', 'DIMS14_29b', 'DIMS14_32', 'Ial06_21a', 'Ial06_21b', 'Ial06_21c'], 'Fe': ['RR05_2', 'RR05_3', 'RR05_4', 'Ial06_24a', 'Ial06_24b', 'Ial06_24c'], 'He': ['direct_He.23', 'PTPR92_21', 'KH01_4a', 'DIMS14_10'], 'Mg': ['direct_Mg.45'], 'N': ['direct_N.23', 'direct_N.234', 'direct_N.2345', 'TPP77_14', 'KB94_A0', 'KB94_A1.6', 'KB94_A1.8', 'KB94_A1.10', 'KB94_A1.10b', 'KH01_4c', 'DIMS14_14', 'DIMS14_14b', 'Ial06_18a', 'Ial06_18b', 'Ial06_18c'], 'Ne': ['direct_Ne.23', 'direct_Ne.235', 'direct_Ne.2345', 'direct_Ne.345', 'direct_Ne.2356', 'TPP77_15', 'PHCD07_12', 'PHCD07_13', 'KB94_A27', 'KB94_A28.6', 'KB94_A28.8', 'KB94_A28.10', 'KB94_A28.10b', 'KH01_4d', 'PC69_40', 'S78_265b', 'DIMS14_17a', 'DIMS14_17b', 'DIMS14_17c', 'DIMS14_20', 'Ial06_19a', 'Ial06_19b', 'Ial06_19c'], 'O': ['direct_O.23', 'direct_O.234', 'direct_O.2345', 'TPP77_13', 'KB94_A6', 'KB94_A8', 'KB94_A10', 'KB94_A10b', 'KH01_4b', 'Ial06_16', 'Ial06_17', 'DIMS14_12'], 'S': ['direct_S.23', 'direct_S.234', 'direct_S.2345', 'KB94_A36.6', 'KB94_A36.8', 'KB94_A36.10', 'KB94_A36.10b', 'KB94_A38.6', 'KB94_A38.8', 'KB94_A38.10', 'KH01_4e', 'DIMS14_23', 'DIMS14_26', 'Ial06_20a', 'Ial06_20b', 'Ial06_20c']}\n"
     ]
    }
   ],
   "source": [
    "print(icf.getAvailableICFs())"
   ]
  },
  {
   "cell_type": "code",
   "execution_count": 7,
   "id": "80f8bcbc-81d3-463f-a820-a47937ed2849",
   "metadata": {},
   "outputs": [
    {
     "name": "stdout",
     "output_type": "stream",
     "text": [
      "Ar = (Ar3 + Ar4) * (He2 + He3) / He2 / (1 -  N2 / (KH01_4c))\n"
     ]
    }
   ],
   "source": [
    "print(icf.getExpression('KH01_4g'))"
   ]
  },
  {
   "cell_type": "code",
   "execution_count": 8,
   "id": "a2e581e5-e21a-4296-b4a2-c683765e3967",
   "metadata": {},
   "outputs": [
    {
     "name": "stdout",
     "output_type": "stream",
     "text": [
      "Kwitter & Henry 2001, ApJ, 562, 804\n"
     ]
    }
   ],
   "source": [
    "print(icf.getReference('KH01_4g')) "
   ]
  },
  {
   "cell_type": "code",
   "execution_count": 9,
   "id": "729d3609-5faa-4c45-ad57-005e57f4d484",
   "metadata": {},
   "outputs": [
    {
     "name": "stdout",
     "output_type": "stream",
     "text": [
      "http://adsabs.harvard.edu/abs/2001ApJ...562..804K\n"
     ]
    }
   ],
   "source": [
    "print(icf.getURL('KH01_4g')) "
   ]
  },
  {
   "cell_type": "code",
   "execution_count": null,
   "id": "ea0c7785-0121-4f08-ac5d-da4607a23707",
   "metadata": {},
   "outputs": [],
   "source": []
  }
 ],
 "metadata": {
  "kernelspec": {
   "display_name": "Python 3 (ipykernel)",
   "language": "python",
   "name": "python3"
  },
  "language_info": {
   "codemirror_mode": {
    "name": "ipython",
    "version": 3
   },
   "file_extension": ".py",
   "mimetype": "text/x-python",
   "name": "python",
   "nbconvert_exporter": "python",
   "pygments_lexer": "ipython3",
   "version": "3.12.8"
  }
 },
 "nbformat": 4,
 "nbformat_minor": 5
}
