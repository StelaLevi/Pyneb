{
 "cells": [
  {
   "cell_type": "code",
   "execution_count": 1,
   "id": "32697428-45b5-4974-b101-a7f5c6ccdce8",
   "metadata": {},
   "outputs": [],
   "source": [
    "%matplotlib inline\n",
    "import numpy as np\n",
    "import matplotlib.pyplot as plt\n",
    "import pyneb as pn\n"
   ]
  },
  {
   "cell_type": "code",
   "execution_count": 3,
   "id": "0a134081-4147-487c-b43d-9a239b2baa2a",
   "metadata": {},
   "outputs": [],
   "source": [
    "H1 = pn.RecAtom('H', 1)   #defeiniu o hidrogênio nêutro"
   ]
  },
  {
   "cell_type": "code",
   "execution_count": 4,
   "id": "8fd928cf-962c-41f3-a4c2-b1ebb40d5547",
   "metadata": {},
   "outputs": [
    {
     "data": {
      "text/plain": [
       "'h_i_rec_SH95.hdf5'"
      ]
     },
     "execution_count": 4,
     "metadata": {},
     "output_type": "execute_result"
    }
   ],
   "source": [
    "pn.atomicData.getDataFile('H1', 'rec')     #Importou os dados necessários"
   ]
  },
  {
   "cell_type": "code",
   "execution_count": 5,
   "id": "4d5b3dbc-243e-48ed-ad53-994c34045da1",
   "metadata": {},
   "outputs": [
    {
     "data": {
      "text/plain": [
       "['H1',\n",
       " 'He1',\n",
       " 'He2',\n",
       " 'C1',\n",
       " 'C2',\n",
       " 'C3',\n",
       " 'C4',\n",
       " 'N1',\n",
       " 'N2',\n",
       " 'N3',\n",
       " 'N4',\n",
       " 'Ne2',\n",
       " 'O1',\n",
       " 'O2',\n",
       " 'O3',\n",
       " 'O4',\n",
       " 'O5',\n",
       " 'N5',\n",
       " 'O6']"
      ]
     },
     "execution_count": 5,
     "metadata": {},
     "output_type": "execute_result"
    }
   ],
   "source": [
    "pn.atomicData.getAllAtoms(coll=False, rec=True)   #Lista os ions de linhas de recombinação"
   ]
  },
  {
   "cell_type": "code",
   "execution_count": 6,
   "id": "1dc6ac3b-0d24-4127-b591-f81f6dae1fb4",
   "metadata": {},
   "outputs": [
    {
     "name": "stdout",
     "output_type": "stream",
     "text": [
      "2.856911883589329\n"
     ]
    }
   ],
   "source": [
    "Hbeta = H1.getEmissivity(tem=1e4, den=1e3, lev_i=4, lev_j=2)\n",
    "Halpha = H1.getEmissivity(tem=1e4, den=1e3, lev_i=3, lev_j=2)\n",
    "print(Halpha/Hbeta)"
   ]
  },
  {
   "cell_type": "code",
   "execution_count": 7,
   "id": "9d0a8b51-3132-49d1-bf99-4122bf9b586a",
   "metadata": {},
   "outputs": [
    {
     "name": "stdout",
     "output_type": "stream",
     "text": [
      "[[1.24000000e-25 1.23500000e-25]\n",
      " [7.26633333e-26 7.25266667e-26]]\n"
     ]
    }
   ],
   "source": [
    "print(H1.getEmissivity([1e4, 1.8e4], [1e4, 1e2], lev_i = 4, lev_j = 2))"
   ]
  },
  {
   "cell_type": "code",
   "execution_count": 8,
   "id": "9846c0cf-c356-4ea0-a171-de48c20aa922",
   "metadata": {},
   "outputs": [
    {
     "name": "stdout",
     "output_type": "stream",
     "text": [
      "[[1.24000000e-25 1.23500000e-25]\n",
      " [7.26633333e-26 7.25266667e-26]]\n"
     ]
    }
   ],
   "source": [
    "print(H1.getEmissivity([1e4, 1.8e4], [1e4, 1e2], label='4_2'))"
   ]
  },
  {
   "cell_type": "code",
   "execution_count": 9,
   "id": "0bb47f2e-0413-4425-8d22-5d583933efae",
   "metadata": {},
   "outputs": [
    {
     "name": "stdout",
     "output_type": "stream",
     "text": [
      "[1.24000000e-25 7.25266667e-26]\n"
     ]
    }
   ],
   "source": [
    "print(H1.getEmissivity([1e4, 1.8e4], [1e4, 1e2], label='4_2', product=False))"
   ]
  },
  {
   "cell_type": "code",
   "execution_count": 10,
   "id": "3d82b372-0c3a-4110-82c9-c8503d521194",
   "metadata": {},
   "outputs": [
    {
     "name": "stdout",
     "output_type": "stream",
     "text": [
      "6.11561306801098e-26\n",
      "6.11561306801098e-26\n"
     ]
    }
   ],
   "source": [
    "He1 = pn.RecAtom('He', 1)\n",
    "print(He1.getEmissivity(1e4, 1e2, wave=4471.0))\n",
    "print(He1.getEmissivity(1e4, 1e2, label='4471.0'))\n"
   ]
  },
  {
   "cell_type": "code",
   "execution_count": 11,
   "id": "0e1bbe3e-cb6a-48fe-83e2-be144883952e",
   "metadata": {},
   "outputs": [
    {
     "data": {
      "text/plain": [
       "('2_1', '3_1', '3_2', '4_1', '4_2', '4_3', '5_1', '5_2', '5_3', '5_4')"
      ]
     },
     "execution_count": 11,
     "metadata": {},
     "output_type": "execute_result"
    }
   ],
   "source": [
    "H1.labels[0:10]\n"
   ]
  },
  {
   "cell_type": "code",
   "execution_count": 12,
   "id": "7380bb65-9c5e-43de-b7bf-c70862c3fa88",
   "metadata": {},
   "outputs": [
    {
     "data": {
      "text/plain": [
       "('2945.0',\n",
       " '3188.0',\n",
       " '3614.0',\n",
       " '3889.0',\n",
       " '3965.0',\n",
       " '4026.0',\n",
       " '4121.0',\n",
       " '4388.0',\n",
       " '4438.0',\n",
       " '4471.0')"
      ]
     },
     "execution_count": 12,
     "metadata": {},
     "output_type": "execute_result"
    }
   ],
   "source": [
    "He1.labels[0:10]"
   ]
  },
  {
   "cell_type": "code",
   "execution_count": 13,
   "id": "81a2fa68-68ae-46c0-89d6-2df99415bfcf",
   "metadata": {},
   "outputs": [
    {
     "name": "stdout",
     "output_type": "stream",
     "text": [
      "(100, 50)\n",
      "2.7245237375264586\n",
      "3.040927694406548\n"
     ]
    }
   ],
   "source": [
    "tem = np.linspace(5000, 20000, 100)\n",
    "den = np.logspace(2, 6, 50)\n",
    "im_Hab = (H1.getEmissivity(tem, den, label='3_2') / H1.getEmissivity(tem, den, label='4_2'))\n",
    "print(im_Hab.shape)\n",
    "print(np.min(im_Hab))\n",
    "print(np.max(im_Hab))"
   ]
  },
  {
   "cell_type": "code",
   "execution_count": 14,
   "id": "b54a5e0f-68e1-42de-9598-f85651504886",
   "metadata": {},
   "outputs": [],
   "source": [
    "pn.atomicData.setDataFile('h_i_rec_SH95-caseA.hdf5')"
   ]
  },
  {
   "cell_type": "code",
   "execution_count": 15,
   "id": "3dc92140-84a5-481b-828e-8fa4b2ce014f",
   "metadata": {},
   "outputs": [],
   "source": [
    "H1_A = pn.RecAtom('H', 1)"
   ]
  },
  {
   "cell_type": "code",
   "execution_count": 16,
   "id": "f0724a16-62bb-4ca9-8014-a60ce44f8a5b",
   "metadata": {},
   "outputs": [],
   "source": [
    "im_caseAoverB = (H1_A.getEmissivity(tem, den, label='4_2')/H1.getEmissivity(tem, den, label='4_2'))"
   ]
  },
  {
   "cell_type": "code",
   "execution_count": 17,
   "id": "bc2912ba-dd6c-4433-81e1-eb82bae1358f",
   "metadata": {},
   "outputs": [],
   "source": [
    "O2 = pn.RecAtom('O', 2)"
   ]
  },
  {
   "cell_type": "code",
   "execution_count": 18,
   "id": "d627d4f9-f5c1-4c30-b0f6-fd70316e3780",
   "metadata": {},
   "outputs": [],
   "source": [
    "V1_mult = ('4638.86', '4641.81', '4649.13', '4650.84', '4661.63', '4673.73', '4676.23', '4696.35')\n"
   ]
  },
  {
   "cell_type": "code",
   "execution_count": 19,
   "id": "856963b4-78ed-4c97-bffd-129d8c4353e9",
   "metadata": {},
   "outputs": [
    {
     "data": {
      "image/png": "[encoded data removed]",
      "text/plain": [
       "<Figure size 640x480 with 1 Axes>"
      ]
     },
     "metadata": {},
     "output_type": "display_data"
    }
   ],
   "source": [
    "cols = 'rgbymckrgbymckr'\n",
    "temps = 1e4\n",
    "dens = np.logspace(2, 5, 30)\n",
    "f, ax = plt.subplots()\n",
    "for j, label in enumerate(V1_mult):\n",
    "    ax.loglog(dens, O2.getEmissivity(temps, dens, label=label), label=label, c=cols[j])\n",
    "ax.set_xlabel('dens [cm-3]')\n",
    "ax.legend(loc='best');"
   ]
  },
  {
   "cell_type": "code",
   "execution_count": 20,
   "id": "4ea9cbfc-7810-4a5d-8efd-6fd424c62aff",
   "metadata": {},
   "outputs": [
    {
     "name": "stdout",
     "output_type": "stream",
     "text": [
      "12+log(O++/H) from recombination line: 8.09, \n",
      "12+log(O++/H) from collisional line: 7.48, \n",
      "ADF: 4.1\n"
     ]
    }
   ],
   "source": [
    "O3c = pn.Atom('O',3)\n",
    "O2r = pn.RecAtom('O',2)\n",
    "tem = 1e4\n",
    "den = 1e2\n",
    "Opp_col = O3c.getIonAbundance(int_ratio=127, tem=tem, den=den, wave=5007)\n",
    "Opp_rec = O2r.getIonAbundance(int_ratio=.023, tem=tem, den=den, label='4649.13')\n",
    "print(\"\"\"12+log(O++/H) from recombination line: {:.2f}, \n",
    "12+log(O++/H) from collisional line: {:.2f}, \n",
    "ADF: {:.1f}\"\"\".format(12+np.log10(Opp_rec), 12+np.log10(Opp_col), Opp_rec / Opp_col))"
   ]
  },
  {
   "cell_type": "code",
   "execution_count": null,
   "id": "90654e57-5f6a-4129-8111-63f500936d57",
   "metadata": {},
   "outputs": [],
   "source": []
  }
 ],
 "metadata": {
  "kernelspec": {
   "display_name": "Python 3 (ipykernel)",
   "language": "python",
   "name": "python3"
  },
  "language_info": {
   "codemirror_mode": {
    "name": "ipython",
    "version": 3
   },
   "file_extension": ".py",
   "mimetype": "text/x-python",
   "name": "python",
   "nbconvert_exporter": "python",
   "pygments_lexer": "ipython3",
   "version": "3.12.8"
  }
 },
 "nbformat": 4,
 "nbformat_minor": 5
}
