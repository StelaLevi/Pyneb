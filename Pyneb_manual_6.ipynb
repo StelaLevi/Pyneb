{
 "cells": [
  {
   "cell_type": "code",
   "execution_count": 1,
   "id": "fca5df38-0bc7-482b-a086-eb97b27364d6",
   "metadata": {},
   "outputs": [],
   "source": [
    "import numpy as np\n",
    "import matplotlib.pyplot as plt\n",
    "import pyneb as pn"
   ]
  },
  {
   "cell_type": "code",
   "execution_count": 2,
   "id": "b73daed1-a9e6-4ed5-8345-be8318320a51",
   "metadata": {},
   "outputs": [],
   "source": [
    "line = pn.EmissionLine('O', 3, 5007, obsIntens=[1.4, 1.3])\n",
    "line2 = pn.EmissionLine(label = 'O3_5007A', obsIntens=320, corrected=True)"
   ]
  },
  {
   "cell_type": "code",
   "execution_count": 3,
   "id": "b359991d-447d-4991-aa00-9705fdd93292",
   "metadata": {},
   "outputs": [
    {
     "name": "stdout",
     "output_type": "stream",
     "text": [
      "Line O3 O3_5007A\n"
     ]
    }
   ],
   "source": [
    "print(line)"
   ]
  },
  {
   "cell_type": "code",
   "execution_count": 4,
   "id": "7171fda9-c206-45bd-8e8f-8374bc2bc161",
   "metadata": {},
   "outputs": [
    {
     "name": "stdout",
     "output_type": "stream",
     "text": [
      "['4931A', '4959A', '5007A', '2315A', '2321A', '2331A', '4363A', '1658A', '1661A', '1666A', '2497A', '5833A', '88.3m', '32.6m', '51.8m']\n"
     ]
    }
   ],
   "source": [
    "print(pn.LINE_LABEL_LIST['O3'])"
   ]
  },
  {
   "cell_type": "code",
   "execution_count": 5,
   "id": "f9006e40-1656-4e0a-b0eb-008e7afda939",
   "metadata": {},
   "outputs": [],
   "source": [
    "redcorr = pn.RedCorr(E_BV = 0.87, law = 'F99')"
   ]
  },
  {
   "cell_type": "code",
   "execution_count": 6,
   "id": "bf7e4a30-8c37-4fc8-9b31-ba57cbbb66d1",
   "metadata": {},
   "outputs": [],
   "source": [
    "line.correctIntens(redcorr)"
   ]
  },
  {
   "cell_type": "code",
   "execution_count": 7,
   "id": "3a721ce3-775e-4a32-92a2-d66c8453d45e",
   "metadata": {},
   "outputs": [
    {
     "name": "stdout",
     "output_type": "stream",
     "text": [
      "Line O3 O3_5007A evaluated as L(5007)\n",
      "Observed intensity: [1.4 1.3]\n",
      "Observed error: [0. 0.]\n",
      "Corrected intensity: [22.58352855 20.97041937]\n",
      "Corrected error: [0. 0.]\n"
     ]
    }
   ],
   "source": [
    "line.printLine()"
   ]
  },
  {
   "cell_type": "code",
   "execution_count": 8,
   "id": "015f09e7-926b-41d6-9291-aaf33f42e5d2",
   "metadata": {},
   "outputs": [
    {
     "name": "stdout",
     "output_type": "stream",
     "text": [
      "4861.0\n"
     ]
    }
   ],
   "source": [
    "Hb1 = pn.EmissionLine(label='H1r_4861A').wave\n",
    "print(Hb1)"
   ]
  },
  {
   "cell_type": "code",
   "execution_count": 9,
   "id": "be9fff52-20a7-4113-8571-b7b9e3220a01",
   "metadata": {},
   "outputs": [
    {
     "name": "stdout",
     "output_type": "stream",
     "text": [
      "4861.3316598713955\n"
     ]
    }
   ],
   "source": [
    "Hb2 = pn.RecAtom('H', 1).getWave(4, 2)\n",
    "print(Hb2)"
   ]
  },
  {
   "cell_type": "code",
   "execution_count": 10,
   "id": "6d4b9a21-eea7-422f-8309-baa965fbc18c",
   "metadata": {},
   "outputs": [
    {
     "data": {
      "text/plain": [
       "np.float64(1.000410798530041)"
      ]
     },
     "execution_count": 10,
     "metadata": {},
     "output_type": "execute_result"
    }
   ],
   "source": [
    "rc = pn.RedCorr() \n",
    "rc.E_BV = 1.34\n",
    "rc.law = 'F99'\n",
    "rc.getCorrHb(Hb1)"
   ]
  },
  {
   "cell_type": "code",
   "execution_count": 11,
   "id": "fc087702-4c3b-4559-a380-a6db70bdf388",
   "metadata": {},
   "outputs": [
    {
     "name": "stdout",
     "output_type": "stream",
     "text": [
      "0.8362020498282933\n"
     ]
    }
   ],
   "source": [
    "O3w = pn.EmissionLine('O', 3, wave=5007).wave\n",
    "print(rc.getCorrHb(O3w))"
   ]
  },
  {
   "cell_type": "code",
   "execution_count": 12,
   "id": "7e310c6a-4b4f-403a-973c-2281afbdcd33",
   "metadata": {},
   "outputs": [
    {
     "name": "stdout",
     "output_type": "stream",
     "text": [
      "warng EmissionLine: Atom H1 not valid\n",
      "1.0\n"
     ]
    }
   ],
   "source": [
    "Hb11 = pn.EmissionLine('H', 1, wave=Hb2).wave\n",
    "print(rc.getCorrHb(Hb11)) "
   ]
  },
  {
   "cell_type": "code",
   "execution_count": 13,
   "id": "61c99f34-28e1-4689-a805-223bc96c8c1e",
   "metadata": {},
   "outputs": [],
   "source": [
    "obs = pn.Observation()"
   ]
  },
  {
   "cell_type": "code",
   "execution_count": 14,
   "id": "17066993-4bb7-4d31-a9c9-6b83fb674fe0",
   "metadata": {},
   "outputs": [
    {
     "name": "stdout",
     "output_type": "stream",
     "text": [
      "Writing observations1.dat\n"
     ]
    }
   ],
   "source": [
    "%%writefile observations1.dat\n",
    "LINE SMC_24\n",
    "S4_10.5m   7.00000\n",
    "Ne2_12.8m  8.3000\n",
    "Ne3_15.6m 34.10\n",
    "S3_18.7m  10.\n",
    "O2_3726A  39.700\n",
    "O2_3729A  18.600\n",
    "Ne3_3869A 18.90\n",
    "Ne3_3968A  6.4\n",
    "S2_4069A   0.85\n",
    "S2_4076A   0.450\n",
    "O3_4363A   4.36\n",
    "H1r_4861A 100.00\n",
    "O3_5007A 435.09\n",
    "N2_5755A   0.510000\n",
    "S3_6312A   0.76\n",
    "O1_6300A   1.69\n",
    "O1_6364A   0.54\n",
    "N2_6548A   6.840000\n",
    "H1r_6563A  345.00\n",
    "N2_6584A  19.00\n",
    "S2_6716A   1.220000\n",
    "S2_6731A   2.180000\n",
    "Ar3_7136A  4.91\n",
    "O2_7319A+   6.540000\n",
    "O2_7330A+   5.17\n"
   ]
  },
  {
   "cell_type": "code",
   "execution_count": 15,
   "id": "2d068a87-3912-490c-a5ad-21774088618b",
   "metadata": {},
   "outputs": [],
   "source": [
    "obs.readData('observations1.dat', fileFormat='lines_in_rows', err_default=0.05)"
   ]
  },
  {
   "cell_type": "code",
   "execution_count": 16,
   "id": "426a9e8c-54e9-49f7-b78c-1ca52e95f300",
   "metadata": {},
   "outputs": [
    {
     "name": "stdout",
     "output_type": "stream",
     "text": [
      "S4_10.5m      7.000\n",
      "Ne2_12.8m     8.300\n",
      "Ne3_15.6m    34.100\n",
      "S3_18.7m     10.000\n",
      "O2_3726A     39.700\n",
      "O2_3729A     18.600\n",
      "Ne3_3869A    18.900\n",
      "Ne3_3968A     6.400\n",
      "S2_4069A      0.850\n",
      "S2_4076A      0.450\n",
      "O3_4363A      4.360\n",
      "H1r_4861A   100.000\n",
      "O3_5007A    435.090\n",
      "N2_5755A      0.510\n",
      "S3_6312A      0.760\n",
      "O1_6300A      1.690\n",
      "O1_6364A      0.540\n",
      "N2_6548A      6.840\n",
      "H1r_6563A   345.000\n",
      "N2_6584A     19.000\n",
      "S2_6716A      1.220\n",
      "S2_6731A      2.180\n",
      "Ar3_7136A     4.910\n",
      "O2_7319A+     6.540\n",
      "O2_7330A+     5.170\n"
     ]
    }
   ],
   "source": [
    "obs.printIntens(returnObs=True)"
   ]
  },
  {
   "cell_type": "code",
   "execution_count": 17,
   "id": "a0b4bee5-3d68-4fcb-91b0-281f59e12851",
   "metadata": {},
   "outputs": [],
   "source": [
    "obs.extinction.law = 'CCM89' \n",
    "obs.correctData()                      "
   ]
  },
  {
   "cell_type": "code",
   "execution_count": 18,
   "id": "ab31a22b-1a38-40ec-8910-fe6529b506d8",
   "metadata": {},
   "outputs": [],
   "source": [
    "obs = pn.Observation('observations1.dat', fileFormat='lines_in_rows', corrected=True)"
   ]
  },
  {
   "cell_type": "code",
   "execution_count": 19,
   "id": "c28a39cd-457e-403a-baa0-2837bc66915a",
   "metadata": {},
   "outputs": [
    {
     "name": "stdout",
     "output_type": "stream",
     "text": [
      "Writing observations2.dat\n"
     ]
    }
   ],
   "source": [
    "%%writefile observations2.dat\n",
    "NAME O2_3726A  O2_3726Ae O2_3729A O2_3729Ae\n",
    "NGC3132 0.93000   0.05000   0.17224200 0.10  \n",
    "IC418 1.28000   0.05000   0.09920000 0.05 \n",
    "M33 0.03100   0.080     0.03100    0.10"
   ]
  },
  {
   "cell_type": "code",
   "execution_count": 20,
   "id": "deac1407-4d79-46ae-a591-9c7c352a88a6",
   "metadata": {},
   "outputs": [],
   "source": [
    "obs2 = pn.Observation('observations2.dat', fileFormat='lines_in_cols', corrected=True)"
   ]
  },
  {
   "cell_type": "code",
   "execution_count": 21,
   "id": "a9aa3ca4-f394-479d-8ed0-2a67452a4bd0",
   "metadata": {},
   "outputs": [
    {
     "name": "stdout",
     "output_type": "stream",
     "text": [
      "Writing observations3.dat\n"
     ]
    }
   ],
   "source": [
    "%%writefile observations3.dat\n",
    "LINE     TT   err  TT2 err TT3 err\n",
    "cHbeta   1.2  0.0  1.5 0.2 1.1 0.2\n",
    "O3_5007A 1.5  0.15 1.3  .2 1.1 0.1\n",
    "H1_6563A 2.89 0.05 1.6 0.3 1.3 0.1\n",
    "N2_6584A 1.   0.20 0.3 0.5 1.5 0.1"
   ]
  },
  {
   "cell_type": "code",
   "execution_count": 22,
   "id": "5bc9ca3b-add5-4ff0-a259-9895eb6c40a3",
   "metadata": {},
   "outputs": [],
   "source": [
    "#obs3 = pn.Observation('observations3.dat', fileFormat='lines_in_rows_err_cols', corrected=False)"
   ]
  },
  {
   "cell_type": "code",
   "execution_count": 23,
   "id": "5e94d5de-4f5f-4a6a-9f81-16cbef4643a8",
   "metadata": {},
   "outputs": [
    {
     "name": "stdout",
     "output_type": "stream",
     "text": [
      "H1r ['1216A', '1026A', '973A', '6563A', '4861A', '4341A', '4102A', '3970A', '3889A', '3835A', '3798A', '1.87m', '1.28m', '1.09m', '9546A', '9229A', '8750A', '8863A', '9015A']\n",
      "He1r ['5876A', '2945A', '3188A', '3614A', '3889A', '3965A', '4026A', '4121A', '4388A', '4438A', '4471A', '4713A', '4922A', '5016A', '5048A', '5876A', '6678A', '7065A', '7281A', '9464A', '10830A', '11013A', '11969A', '12527A', '12756A', '12785A', '12790A', '12846A', '12968A', '12985A', '13412A', '15084A', '17003A', '18556A', '18685A', '18697A', '19089A', '19543A', '20425A', '20581A', '20602A', '21120A', '21132A', '21608A', '21617A']\n",
      "He2r ['1640A', '1215A', '1084A', '4686A', '3203A', '6560A', '5411A', '4859A', '4541A', '6407A', '4198A']\n",
      "3He2 ['3.50c']\n",
      "Al2 ['2674A', '2670A', '2661A', '1671A', '4451A', '4463A', '4488A', '164.2m', '54.1m', '80.7m']\n",
      "Ar2 ['7.0m']\n",
      "Ar3 ['7136A', '7751A', '8036A', '3005A', '3109A', '3154A', '5192A', '9.0m', '6.37m', '21.8m']\n",
      "Ar4 ['4740A', '4711A', '2868A', '7263A', '7332A', '2854A', '7170A', '7237A', '77.4m', '56.2m']\n",
      "Ar5 ['6133A', '6435A', '7005A', '2637A', '2692A', '2786A', '4626A', '1218A', '1229A', '1249A', '1520A', '2262A', '13.1m', '4.93m', '7.9m']\n",
      "Ba2 ['4935A', '6497A', '6854A', '4555A', '5854A', '6142A', '2361A', '2668A', '2726A', '4524A', '4900A', '2.05m', '1.76m', '12.5m', '5.9m']\n",
      "Ba4 ['5697A']\n",
      "Br3 ['6646A', '6133A', '3714A', '8420A', '9419A', '3498A', '7385A', '8142A', '7.94m', '6.0m']\n",
      "C1 ['9808A', '9824A', '9850A', '4618A', '4621A', '4627A', '8728A', '2963A', '2965A', '2967A', '4246A', '8271A', '609.6m', '230.3m', '370.3m']\n",
      "C2 ['2325A', '2328A', '2323A', '2327A', '2322A', '2325A', '1335A', '1336A', '3131A', '3133A', '3136A', '1036A', '1037A', '1869A', '1870A', '1871A', '4636A', '4637A', '157.6m', '454.4m', '198.8m', '353.3m', '3967.2m']\n",
      "C2r ['9903+', '4267+', '7231+', '6580+', '2837+', '1761+', '1335+', '11641.0A', '4156.0A', '1632.0A', '40292.0A', '21809.0A', '12774.0A', '7572.0A', '7508.0A', '4292.0A', '2140.0A', '1653.0A', '68870.0A', '28127.0A', '14709.0A', '8213.0A', '14565.0A', '8138.0A', '4491.0A', '4329.0A', '2189.0A', '1682.0A', '4463.0A', '47268.0A', '18662.0A', '9314.0A', '46443.0A', '18451.0A', '9224.0A', '4803.0A', '8869.0A', '4619.0A', '2261.0A', '8268.0A', '4752.0A', '30688.0A', '11579.0A', '30154.0A', '11444.0A', '5342.0A', '10931.0A', '5122.0A', '2375.0A', '4019.0A', '1796.0A', '18516.0A', '18199.0A', '6462.0A', '17000.0A', '6151.0A', '2575.0A', '914.0A', '4639.0A', '1910.0A', '1505.0A', '1157.0A', '9903.0A', '9230.0A', '2993.0A', '962.0A', '31211.0A', '6259.0A', '2138.0A', '10301.0A', '997.0A', '1548.0A', '1270.0A', '4267.0A', '1064.0A', '17847.0A', '2747.0A', '5890.0A', '2174.0A', '1142.0A', '1930.0A', '3920.0A', '7235.0A', '6580.0A', '1762.0A', '2841.0A', '1760.0A', '5060.0A', '3176.0A', '1232.0A', '1335.0A', '1037.0A', '1324.0A', '1066.0A', '1721.0A']\n",
      "C3 ['1910A', '1909A', '1907A', '977A', '2000A', '2001A', '2003A', '422.0m', '124.9m', '177.4m']\n",
      "C4 ['1551A', '1548A', '92.8m']\n",
      "Ca2 ['7292A', '7324A']\n",
      "Ca5 ['5309A', '6087A', '6428A', '2280A', '2413A', '2464A', '3998A', '4.16m', '3.05m', '11.5m']\n",
      "Cl2 ['8579A', '9124A', '9381A', '3586A', '3678A', '3719A', '6162A', '14.4m', '10.0m', '33.3m']\n",
      "Cl3 ['5538A', '5518A', '3353A', '8500A', '8548A', '3343A', '8434A', '8481A', '151.5m', '108.0m']\n",
      "Cl4 ['7261A', '7531A', '8046A', '3071A', '3119A', '3204A', '5323A', '1463A', '1474A', '1493A', '1833A', '2793A', '20.3m', '7.45m', '11.8m']\n",
      "Fe3 ['4009A', '4659A', '4668A', '4701A', '4734A', '4755A', '5011A', '5085A', '5270A', '4881A', '4925A', '4931A', '5412A', '4987A', '8729A', '8838A', '3240A', '3286A', '3319A', '3323A', '3335A', '3355A', '3357A', '3366A', '3371A', '3406A', '4046A', '4080A', '4097A', '4607A', '4770A', '4778A', '9701A', '9960A', '5440A', '6096A']\n",
      "Fe4 ['4491A', '5685A', '5735A', '6740A']\n",
      "Fe5 ['3783A', '3795A', '3822A', '3891A', '3895A', '3911A', '4071A', '4181A', '4227A']\n",
      "Fe6 ['3556A', '3929A', '5146A', '5176A', '5278A', '5335A', '5370A', '5424A', '5427A', '5485A', '5631A', '5677A']\n",
      "Fe7 ['5159A', '5276A', '5721A', '6087A']\n",
      "K4 ['6102A', '6796A', '7109A', '2594A', '2711A', '2760A', '4511A', '6.0m', '4.3m', '15.4m']\n",
      "K5 ['4163A', '4123A', '2514A', '6349A', '6446A', '2495A', '6222A', '6316A', '42.2m', '31.0m']\n",
      "K6 ['5602A', '6229A']\n",
      "Kr3 ['6827A', '9902A', '3022A', '3504A', '3600A', '5423A', '2.2m', '1.88m', '13.1m', '1.07m']\n",
      "Kr4 ['5868A', '5346A', '3219A', '7131A', '8091A', '2993A', '6108A', '6798A', '6.0m', '4.26m']\n",
      "Kr5 ['5069A', '6256A', '8243A', '2550A', '2819A', '3163A', '5132A', '2.67m', '1.32m', '2.6m']\n",
      "Mg4 ['4.5m']\n",
      "Mg5 ['2783A', '2929A', '2992A', '1294A', '1325A', '1338A', '2418A', '5.6m', '3.96m', '13.5m']\n",
      "Mg7 ['2441A', '2509A', '2629A', '1174A', '1190A', '1216A', '2261A', '943A', '953A', '970A', '1537A', '4790A', '9.0m', '3.42m', '5.5m']\n",
      "N1 ['5200A', '5198A', '3467A', '3466A']\n",
      "N2 ['6527A', '6548A', '6584A', '3058A', '3063A', '3071A', '5755A', '2137A', '2139A', '2143A', '3177A', '7092A', '205.3m', '76.4m', '121.8m']\n",
      "N2r ['4026.08A', '4035.08A', '4039.35A', '4041.31A', '4043.53A', '4044.78A', '4056.90A', '4058.16A', '4073.04A', '4076.91A', '4077.40A', '4082.27A', '4082.89A', '4086.83A', '4087.30A', '4095.90A', '4096.58A', '4100.97A', '4601.48A', '4607.16A', '4613.87A', '4621.39A', '4630.54A', '4643.09A', '4774.24A', '4779.72A', '4781.19A', '4788.13A', '4793.65A', '4803.29A', '4810.31A', '5001.14A', '5001.48A', '5005.15A', '5016.39A', '5025.66A', '5040.72A', '5452.08A', '5454.22A', '5462.59A', '5478.10A', '5480.06A', '5495.67A', '5666.63A', '5676.02A', '5679.56A', '5686.21A', '5710.77A', '5730.65A', '5927.81A', '5931.78A', '5940.24A', '5941.65A', '5952.39A', '5960.90A']\n",
      "N3 ['1749A', '1754A', '1747A', '1752A', '1744A', '1750A', '990A', '992A', '2280A', '2284A', '2288A', '2280A', '2283A', '2287A', '763A', '764A', '1356A', '1357A', '3334A', '3335A', '57.4m', '167.5m', '71.0m', '123.3m', '1492.1m']\n",
      "N3r ['4641+', '4100+']\n",
      "N4 ['1488A', '1487A', '1483A', '765A', '1575A', '1576A', '1580A', '158.4m', '48.3m', '69.4m']\n",
      "N5 ['1239A', '1243A']\n",
      "N5r ['7618+', '4945+', '2981+', '1620+']\n",
      "Na3 ['7.3m']\n",
      "Na4 ['3242A', '3362A', '3416A', '1504A', '1529A', '1540A', '2804A', '9.0m', '6.34m', '21.3m']\n",
      "Na6 ['2816A', '2872A', '2972A', '1343A', '1356A', '1378A', '2569A', '14.39m', '5.4m', '8.6m']\n",
      "Ne2 ['12.8m']\n",
      "Ne3 ['3869A', '3968A', '4012A', '1794A', '1815A', '1824A', '3343A', '15.6m', '10.9m', '36.0m']\n",
      "Ne4 ['2425A', '2422A', '1602A', '4716A', '4726A', '1601A', '4714A', '4724A', '224.9m', '1579.3m']\n",
      "Ne5 ['3300A', '3346A', '3426A', '1565A', '1575A', '1592A', '2973A', '1132A', '1137A', '1146A', '1721A', '4083A', '24.3m', '9.0m', '14.3m']\n",
      "Ne6 ['997A', '1010A', '993A', '1006A', '986A', '999A', '559A', '563A', '1271A', '1278A', '1289A', '559A', '563A', '1270A', '1277A', '1288A', '433A', '436A', '766A', '769A', '772A', '1928A', '1929A', '7.65m', '22.7m', '9.2m', '15.5m', '334.4m']\n",
      "Ni3 ['7890A', '8500A', '6000A', '6401A', '6534A', '6682A', '6797A', '7125A', '6946A']\n",
      "O1 ['6300A', '6364A', '6392A', '2959A', '2973A', '2979A', '5577A', '63.2m', '44.1m', '145.5m']\n",
      "O1r ['8447+', '7773+', '9264+', '3947+', '1357+']\n",
      "O2 ['3729A', '3726A', '2470A', '7319A', '7320A', '7330A', '7331A', '2470A', '834A', '1075A', '1260A', '833A', '1073A', '1258A', '833A', '1072A', '1256A', '499.3m', '5023.7m', '61.3m', '40.7m', '121.3m']\n",
      "O2r ['4638.86A', '4641.81A', '4649.13A', '4650.84A', '4661.63A', '4673.73A', '4676.23A', '4696.35A', '4317.14A', '4336.86A', '4345.56A', '4349.43A', '4366.89A', '4414.90A', '4416.97A', '4069.62A', '4069.88A', '4072.15A', '4075.86A', '4078.84A', '4085.11A', '4092.93A', '4590.97A', '4596.18A', '4121.46A', '4132.80A', '4153.30A', '4104.99A', '4110.79A', '4119.22A', '4120.28A', '4185.44A', '4189.79A', '4087.15A', '4089.29A', '4095.64A', '4097.26A', '4275.55A', '4282.96A']\n",
      "O3 ['4931A', '4959A', '5007A', '2315A', '2321A', '2331A', '4363A', '1658A', '1661A', '1666A', '2497A', '5833A', '88.3m', '32.6m', '51.8m']\n",
      "O4 ['1400A', '1407A', '1397A', '1405A', '1394A', '1401A', '788A', '1801A', '1806A', '1812A', '608A', '610A', '1076A', '1078A', '1080A', '2671A', '2672A', '25.9m', '76.7m', '31.7m', '53.9m', '719.2m']\n",
      "O5 ['1220A', '1218A', '1214A', '630A', '1301A', '1303A', '1309A', '73.5m', '22.6m', '32.6m']\n",
      "Rb4 ['5760A', '9009A', '9604A', '2603A', '3110A', '3178A', '4750A', '1.6m', '1.44m', '14.5m']\n",
      "Rb5 ['5364A', '4742A', '2873A', '6188A', '7290A', '2609A', '5080A', '5800A', '4.1m', '2.84m']\n",
      "Rb6 ['4210A', '5373A', '7220A', '2212A', '2495A', '2832A', '4660A', '1.95m', '1.01m', '2.1m']\n",
      "S2 ['6731A', '6716A', '4076A', '4069A', '1260A', '1549A', '1550A', '1823A', '1824A', '1254A', '1541A', '1542A', '1811A', '1812A', '1251A', '1536A', '1537A', '1804A', '1806A', '314.5m', '1.03m', '214.0m', '27.7m', '17.6m', '48.6m']\n",
      "S3 ['8829A', '9069A', '9531A', '3681A', '3722A', '3798A', '6312A', '33.5m', '12.0m', '18.7m']\n",
      "S4 ['1405A', '1424A', '1398A', '1417A', '1387A', '1406A', '10.5m', '29.0m', '11.2m', '18.3m']\n",
      "Se3 ['7671A', '8854A', '3516A', '3746A', '4082A', '6493A', '5.74m', '2.54m', '4.55m', '1.1m']\n",
      "Se4 ['2.28m']\n",
      "Si2 ['2335A', '2351A', '2329A', '2345A', '2320A', '1808A', '1817A', '8007A', '8077A', '8193A', '7997A', '8067A', '8183A', '34.8m', '92.3m', '35.2m', '57.1m', '631.5m']\n",
      "Si3 ['1897A', '1892A', '1883A', '1206A', '3315A', '3329A', '3359A', '77.7m', '25.7m', '38.2m']\n",
      "Si4 ['1394A', '1403A']\n",
      "Xe3 ['5847A', '2769A', '3574A', '3800A', '5261A', '1.23m', '1.02m', '6.0m', '1.11m', '1.37m']\n",
      "Xe4 ['7535A', '5709A', '3566A', '6769A', '9498A', '2804A', '4467A', '5511A', '2.36m', '1.31m']\n",
      "Xe6 ['6409A']\n"
     ]
    }
   ],
   "source": [
    "for atom in pn.LINE_LABEL_LIST:\n",
    "    print(atom, pn.LINE_LABEL_LIST[atom])"
   ]
  },
  {
   "cell_type": "code",
   "execution_count": 24,
   "id": "2f34b9de-14fb-452b-8a3f-5b4a0cc68395",
   "metadata": {},
   "outputs": [],
   "source": [
    "obs = pn.Observation('observations1.dat', fileFormat='lines_in_rows', corrected=True)\n",
    "obs.extinction.cHbeta = 1.2\n",
    "obs.extinction.E_BV = 0.34"
   ]
  },
  {
   "cell_type": "code",
   "execution_count": 25,
   "id": "60918b65-fdbc-48fb-ac40-b56c5f17af13",
   "metadata": {},
   "outputs": [],
   "source": [
    "obs.extinction.law = 'F99'"
   ]
  },
  {
   "cell_type": "code",
   "execution_count": 26,
   "id": "11562bb1-91c2-4148-8018-d4d7a29479da",
   "metadata": {},
   "outputs": [],
   "source": [
    "obs.correctData()"
   ]
  },
  {
   "cell_type": "code",
   "execution_count": 27,
   "id": "2550ab63-3be8-4670-ab1a-b2396436d998",
   "metadata": {},
   "outputs": [
    {
     "name": "stdout",
     "output_type": "stream",
     "text": [
      "S4_10.5m      7.000\n",
      "Ne2_12.8m     8.300\n",
      "Ne3_15.6m    34.100\n",
      "S3_18.7m     10.000\n",
      "O2_3726A     39.700\n",
      "O2_3729A     18.600\n",
      "Ne3_3869A    18.900\n",
      "Ne3_3968A     6.400\n",
      "S2_4069A      0.850\n",
      "S2_4076A      0.450\n",
      "O3_4363A      4.360\n",
      "H1r_4861A   100.000\n",
      "O3_5007A    435.090\n",
      "N2_5755A      0.510\n",
      "S3_6312A      0.760\n",
      "O1_6300A      1.690\n",
      "O1_6364A      0.540\n",
      "N2_6548A      6.840\n",
      "H1r_6563A   345.000\n",
      "N2_6584A     19.000\n",
      "S2_6716A      1.220\n",
      "S2_6731A      2.180\n",
      "Ar3_7136A     4.910\n",
      "O2_7319A+     6.540\n",
      "O2_7330A+     5.170\n"
     ]
    }
   ],
   "source": [
    "obs.printIntens(returnObs=True)"
   ]
  },
  {
   "cell_type": "code",
   "execution_count": 28,
   "id": "4299a148-7770-4202-ac18-b0a2faeb40a7",
   "metadata": {},
   "outputs": [
    {
     "name": "stdout",
     "output_type": "stream",
     "text": [
      "S4_10.5m      7.120\n",
      "Ne2_12.8m     8.415\n",
      "Ne3_15.6m    34.483\n",
      "S3_18.7m     10.093\n",
      "O2_3726A    171.242\n",
      "O2_3729A     80.156\n",
      "Ne3_3869A    78.134\n",
      "Ne3_3968A    25.717\n",
      "S2_4069A      3.320\n",
      "S2_4076A      1.754\n",
      "O3_4363A     15.704\n",
      "H1r_4861A   310.254\n",
      "O3_5007A   1289.851\n",
      "N2_5755A      1.244\n",
      "S3_6312A      1.662\n",
      "O1_6300A      3.704\n",
      "O1_6364A      1.170\n",
      "N2_6548A     14.346\n",
      "H1r_6563A   721.747\n",
      "N2_6584A     39.607\n",
      "S2_6716A      2.488\n",
      "S2_6731A      4.435\n",
      "Ar3_7136A     9.384\n",
      "O2_7319A+    12.180\n",
      "O2_7330A+     9.614\n"
     ]
    }
   ],
   "source": [
    "obs.printIntens()"
   ]
  },
  {
   "cell_type": "code",
   "execution_count": 29,
   "id": "d5f8b803-3627-4720-9762-fee329dd3d9a",
   "metadata": {},
   "outputs": [],
   "source": [
    "obs.correctData(normWave=4861.)"
   ]
  },
  {
   "cell_type": "code",
   "execution_count": 30,
   "id": "67097760-979d-4f14-ba09-5cf3d2ac69bb",
   "metadata": {},
   "outputs": [
    {
     "name": "stdout",
     "output_type": "stream",
     "text": [
      "S4_10.5m      2.295\n",
      "Ne2_12.8m     2.712\n",
      "Ne3_15.6m    11.115\n",
      "S3_18.7m      3.253\n",
      "O2_3726A     55.194\n",
      "O2_3729A     25.836\n",
      "Ne3_3869A    25.184\n",
      "Ne3_3968A     8.289\n",
      "S2_4069A      1.070\n",
      "S2_4076A      0.565\n",
      "O3_4363A      5.062\n",
      "H1r_4861A   100.000\n",
      "O3_5007A    415.740\n",
      "N2_5755A      0.401\n",
      "S3_6312A      0.536\n",
      "O1_6300A      1.194\n",
      "O1_6364A      0.377\n",
      "N2_6548A      4.624\n",
      "H1r_6563A   232.631\n",
      "N2_6584A     12.766\n",
      "S2_6716A      0.802\n",
      "S2_6731A      1.429\n",
      "Ar3_7136A     3.025\n",
      "O2_7319A+     3.926\n",
      "O2_7330A+     3.099\n"
     ]
    }
   ],
   "source": [
    "obs.printIntens()"
   ]
  },
  {
   "cell_type": "code",
   "execution_count": 32,
   "id": "703bdaac-07b7-4e1e-98a5-32ff8a17436b",
   "metadata": {},
   "outputs": [
    {
     "name": "stdout",
     "output_type": "stream",
     "text": [
      "[0.16483175]\n"
     ]
    }
   ],
   "source": [
    "obs.def_EBV(label1=\"H1r_6563A\", label2=\"H1r_4861A\", r_theo=2.85)\n",
    "print(obs.extinction.E_BV)\n",
    "obs.correctData(normWave=4861.)"
   ]
  },
  {
   "cell_type": "code",
   "execution_count": 33,
   "id": "cfbd1253-1217-4654-b140-a137dda8dcf2",
   "metadata": {
    "scrolled": true
   },
   "outputs": [
    {
     "name": "stdout",
     "output_type": "stream",
     "text": [
      "S4_10.5m      4.076\n",
      "Ne2_12.8m     4.826\n",
      "Ne3_15.6m    19.803\n",
      "S3_18.7m      5.802\n",
      "O2_3726A     46.576\n",
      "O2_3729A     21.812\n",
      "Ne3_3869A    21.722\n",
      "Ne3_3968A     7.255\n",
      "S2_4069A      0.950\n",
      "S2_4076A      0.503\n",
      "O3_4363A      4.687\n",
      "H1r_4861A   100.000\n",
      "O3_5007A    425.599\n",
      "N2_5755A      0.454\n",
      "S3_6312A      0.641\n",
      "O1_6300A      1.428\n",
      "O1_6364A      0.454\n",
      "N2_6548A      5.657\n",
      "H1r_6563A   285.000\n",
      "N2_6584A     15.668\n",
      "S2_6716A      0.995\n",
      "S2_6731A      1.777\n",
      "Ar3_7136A     3.882\n",
      "O2_7319A+     5.106\n",
      "O2_7330A+     4.034\n"
     ]
    }
   ],
   "source": [
    "obs.printIntens()"
   ]
  },
  {
   "cell_type": "code",
   "execution_count": 34,
   "id": "795d7e27-14f8-431d-af1a-a57c6295bf74",
   "metadata": {},
   "outputs": [
    {
     "name": "stdout",
     "output_type": "stream",
     "text": [
      "Ar3_7136A 3.8821497892916716\n",
      "H1r_4861A 100.0\n",
      "H1r_6563A 284.99999999999994\n",
      "N2_5755A 0.4538465502784229\n",
      "N2_6548A 5.6574680712548835\n",
      "N2_6584A 15.668474852815743\n",
      "Ne2_12.8m 4.826029712555136\n",
      "Ne3_15.6m 19.8027022261585\n",
      "Ne3_3869A 21.721862162658756\n",
      "Ne3_3968A 7.2549847099308185\n",
      "O1_6300A 1.4279238824617235\n",
      "O1_6364A 0.4536974769399841\n",
      "O2_3726A 46.57643988525366\n",
      "O2_3729A 21.812058000703153\n",
      "O2_7319A+ 5.106424464804535\n",
      "O2_7330A+ 4.033770322547239\n",
      "O3_4363A 4.687051074032947\n",
      "O3_5007A 425.5991545953096\n",
      "S2_4069A 0.95040451703046\n",
      "S2_4076A 0.5026812314820526\n",
      "S2_6716A 0.9954054122181787\n",
      "S2_6731A 1.7765637886180774\n",
      "S3_18.7m 5.801845911170803\n",
      "S3_6312A 0.6414610121168983\n",
      "S4_10.5m 4.076478721339332\n"
     ]
    }
   ],
   "source": [
    "for line in obs.getSortedLines(): \n",
    "    print(line.label, line.corrIntens[0])"
   ]
  },
  {
   "cell_type": "code",
   "execution_count": 35,
   "id": "f69bc279-d5ec-4930-885a-197caf7aff7f",
   "metadata": {},
   "outputs": [],
   "source": [
    "atomList = obs.getUniqueAtoms()"
   ]
  },
  {
   "cell_type": "code",
   "execution_count": 36,
   "id": "86249514-c3cb-4a98-ba1b-a762ca33519f",
   "metadata": {},
   "outputs": [
    {
     "data": {
      "text/plain": [
       "array(['Ar3', 'H1r', 'N2', 'Ne2', 'Ne3', 'O1', 'O2', 'O3', 'S2', 'S3',\n",
       "       'S4'], dtype='<U3')"
      ]
     },
     "execution_count": 36,
     "metadata": {},
     "output_type": "execute_result"
    }
   ],
   "source": [
    "atomList"
   ]
  },
  {
   "cell_type": "code",
   "execution_count": 37,
   "id": "cdc8f9e5-887d-450a-b7db-45f6bf154863",
   "metadata": {},
   "outputs": [],
   "source": [
    "obs.addObs('test', np.random.rand(25))"
   ]
  },
  {
   "cell_type": "code",
   "execution_count": 38,
   "id": "e03ec0ec-e6e6-49c7-9c87-1cb24da7f4cc",
   "metadata": {},
   "outputs": [
    {
     "name": "stdout",
     "output_type": "stream",
     "text": [
      "S4_10.5m      4.076    0.615\n",
      "Ne2_12.8m     4.826    0.134\n",
      "Ne3_15.6m    19.803    0.082\n",
      "S3_18.7m      5.802    0.853\n",
      "O2_3726A     46.576    0.565\n",
      "O2_3729A     21.812    0.159\n",
      "Ne3_3869A    21.722    0.741\n",
      "Ne3_3968A     7.255    0.520\n",
      "S2_4069A      0.950    0.246\n",
      "S2_4076A      0.503    0.176\n",
      "O3_4363A      4.687    0.530\n",
      "H1r_4861A   100.000    0.604\n",
      "O3_5007A    425.599    0.550\n",
      "N2_5755A      0.454    0.701\n",
      "S3_6312A      0.641    0.842\n",
      "O1_6300A      1.428    0.309\n",
      "O1_6364A      0.454    0.624\n",
      "N2_6548A      5.657    0.682\n",
      "H1r_6563A   285.000    0.023\n",
      "N2_6584A     15.668    0.637\n",
      "S2_6716A      0.995    0.090\n",
      "S2_6731A      1.777    0.106\n",
      "Ar3_7136A     3.882    0.377\n",
      "O2_7319A+     5.106    0.979\n",
      "O2_7330A+     4.034    0.097\n"
     ]
    }
   ],
   "source": [
    "obs.printIntens()"
   ]
  },
  {
   "cell_type": "code",
   "execution_count": 39,
   "id": "eafc8d6a-58ad-438a-9b19-64ce32c9d947",
   "metadata": {},
   "outputs": [],
   "source": [
    "line = pn.EmissionLine(label='Cl3_5518A', obsIntens=[3.5, 2.5])\n",
    "obs.addLine(line)"
   ]
  },
  {
   "cell_type": "code",
   "execution_count": 40,
   "id": "45307673-001a-4643-a2e6-0fe13f633cd5",
   "metadata": {},
   "outputs": [
    {
     "name": "stdout",
     "output_type": "stream",
     "text": [
      "S4_10.5m      4.076    0.615\n",
      "Ne2_12.8m     4.826    0.134\n",
      "Ne3_15.6m    19.803    0.082\n",
      "S3_18.7m      5.802    0.853\n",
      "O2_3726A     46.576    0.565\n",
      "O2_3729A     21.812    0.159\n",
      "Ne3_3869A    21.722    0.741\n",
      "Ne3_3968A     7.255    0.520\n",
      "S2_4069A      0.950    0.246\n",
      "S2_4076A      0.503    0.176\n",
      "O3_4363A      4.687    0.530\n",
      "H1r_4861A   100.000    0.604\n",
      "O3_5007A    425.599    0.550\n",
      "N2_5755A      0.454    0.701\n",
      "S3_6312A      0.641    0.842\n",
      "O1_6300A      1.428    0.309\n",
      "O1_6364A      0.454    0.624\n",
      "N2_6548A      5.657    0.682\n",
      "H1r_6563A   285.000    0.023\n",
      "N2_6584A     15.668    0.637\n",
      "S2_6716A      0.995    0.090\n",
      "S2_6731A      1.777    0.106\n",
      "Ar3_7136A     3.882    0.377\n",
      "O2_7319A+     5.106    0.979\n",
      "O2_7330A+     4.034    0.097\n",
      "Cl3_5518A     5.534    3.953\n"
     ]
    }
   ],
   "source": [
    "obs.printIntens()"
   ]
  },
  {
   "cell_type": "code",
   "execution_count": 41,
   "id": "4b3d4e1e-d0ff-4a7f-a509-0a7be6685780",
   "metadata": {},
   "outputs": [
    {
     "data": {
      "text/plain": [
       "['SMC_24', 'test']"
      ]
     },
     "execution_count": 41,
     "metadata": {},
     "output_type": "execute_result"
    }
   ],
   "source": [
    "obs.names"
   ]
  },
  {
   "cell_type": "code",
   "execution_count": 42,
   "id": "291872e4-2f39-4457-87dd-0af6ab1d36da",
   "metadata": {},
   "outputs": [
    {
     "data": {
      "text/plain": [
       "{'S4_10.5m': np.float64(4.076478721339332),\n",
       " 'Ne2_12.8m': np.float64(4.826029712555136),\n",
       " 'Ne3_15.6m': np.float64(19.8027022261585),\n",
       " 'S3_18.7m': np.float64(5.801845911170803),\n",
       " 'O2_3726A': np.float64(46.57643988525366),\n",
       " 'O2_3729A': np.float64(21.812058000703153),\n",
       " 'Ne3_3869A': np.float64(21.721862162658756),\n",
       " 'Ne3_3968A': np.float64(7.2549847099308185),\n",
       " 'S2_4069A': np.float64(0.95040451703046),\n",
       " 'S2_4076A': np.float64(0.5026812314820526),\n",
       " 'O3_4363A': np.float64(4.687051074032947),\n",
       " 'H1r_4861A': np.float64(100.0),\n",
       " 'O3_5007A': np.float64(425.5991545953096),\n",
       " 'N2_5755A': np.float64(0.4538465502784229),\n",
       " 'S3_6312A': np.float64(0.6414610121168983),\n",
       " 'O1_6300A': np.float64(1.4279238824617235),\n",
       " 'O1_6364A': np.float64(0.4536974769399841),\n",
       " 'N2_6548A': np.float64(5.6574680712548835),\n",
       " 'H1r_6563A': np.float64(284.99999999999994),\n",
       " 'N2_6584A': np.float64(15.668474852815743),\n",
       " 'S2_6716A': np.float64(0.9954054122181787),\n",
       " 'S2_6731A': np.float64(1.7765637886180774),\n",
       " 'Ar3_7136A': np.float64(3.8821497892916716),\n",
       " 'O2_7319A+': np.float64(5.106424464804535),\n",
       " 'O2_7330A+': np.float64(4.033770322547239),\n",
       " 'Cl3_5518A': np.float64(5.533838898173915)}"
      ]
     },
     "execution_count": 42,
     "metadata": {},
     "output_type": "execute_result"
    }
   ],
   "source": [
    "obs.getIntens(obsName='SMC_24')"
   ]
  },
  {
   "cell_type": "code",
   "execution_count": 43,
   "id": "4d5bc935-2251-406e-92b3-4ca8faa3a203",
   "metadata": {},
   "outputs": [
    {
     "data": {
      "text/plain": [
       "array([4.03377032, 0.09723054])"
      ]
     },
     "execution_count": 43,
     "metadata": {},
     "output_type": "execute_result"
    }
   ],
   "source": [
    "obs.getIntens()['O2_7330A+']"
   ]
  },
  {
   "cell_type": "code",
   "execution_count": 44,
   "id": "9955ba28-d49f-473d-b779-f088f95edc25",
   "metadata": {},
   "outputs": [
    {
     "name": "stdout",
     "output_type": "stream",
     "text": [
      "warng _ManageAtomicData: rec data not available for Ar3\n",
      "warng _ManageAtomicData: atom data not available for H1\n",
      "warng _ManageAtomicData: coll data not available for H1\n",
      "warng _ManageAtomicData: rec data not available for Ne3\n",
      "warng _ManageAtomicData: rec data not available for S2\n",
      "warng _ManageAtomicData: rec data not available for S3\n",
      "warng _ManageAtomicData: rec data not available for S4\n"
     ]
    }
   ],
   "source": [
    "obs = pn.Observation()\n",
    "obs.readData('observations1.dat', fileFormat='lines_in_rows', err_default=0.05) # fill obs with data read from observations1.dat\n",
    "obs.def_EBV(label1=\"H1r_6563A\", label2=\"H1r_4861A\", r_theo=2.85)\n",
    "obs.correctData(normWave=4861.)\n",
    "Te = [10000.]\n",
    "Ne = [1e3]\n",
    "# Define a dictionary to hold all the Atom objects needed\n",
    "all_atoms = pn.getAtomDict(atom_list=obs.getUniqueAtoms())\n",
    "# define a dictionary to store the abundances\n",
    "ab_dict = {}\n",
    "# we  use the following lines to determine the ionic abundances\n",
    "ab_labels = ['N2_6584A', 'O2_3726A', 'O3_5007A', 'S2_6716A', \n",
    "             'S3_6312A', 'Ar3_7136A', 'Ne3_3869A']\n",
    "for line in obs.getSortedLines():\n",
    "    if line.label in ab_labels:\n",
    "        ab = all_atoms[line.atom].getIonAbundance(line.corrIntens, Te, Ne, \n",
    "                                                  to_eval=line.to_eval, Hbeta=100)\n",
    "        ab_dict[line.atom] = ab"
   ]
  },
  {
   "cell_type": "code",
   "execution_count": 45,
   "id": "95a0c316-e178-4123-ae92-c2e85a9f8d25",
   "metadata": {},
   "outputs": [
    {
     "data": {
      "text/plain": [
       "{'Ar3': array([3.21287725e-07]),\n",
       " 'N2': array([3.22649264e-06]),\n",
       " 'Ne3': array([2.36596811e-05]),\n",
       " 'O2': array([3.58893988e-05]),\n",
       " 'O3': array([0.00014833]),\n",
       " 'S2': array([6.0414744e-08]),\n",
       " 'S3': array([1.42901804e-06])}"
      ]
     },
     "execution_count": 45,
     "metadata": {},
     "output_type": "execute_result"
    }
   ],
   "source": [
    "ab_dict"
   ]
  },
  {
   "cell_type": "code",
   "execution_count": null,
   "id": "ab511242-54a5-4e43-8822-b550296b75f0",
   "metadata": {},
   "outputs": [],
   "source": []
  }
 ],
 "metadata": {
  "kernelspec": {
   "display_name": "Python 3 (ipykernel)",
   "language": "python",
   "name": "python3"
  },
  "language_info": {
   "codemirror_mode": {
    "name": "ipython",
    "version": 3
   },
   "file_extension": ".py",
   "mimetype": "text/x-python",
   "name": "python",
   "nbconvert_exporter": "python",
   "pygments_lexer": "ipython3",
   "version": "3.12.8"
  }
 },
 "nbformat": 4,
 "nbformat_minor": 5
}
